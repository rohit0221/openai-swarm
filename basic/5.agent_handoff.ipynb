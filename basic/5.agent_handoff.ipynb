{
 "cells": [
  {
   "cell_type": "markdown",
   "metadata": {},
   "source": [
    "# Agent Handoff"
   ]
  },
  {
   "cell_type": "code",
   "execution_count": 1,
   "metadata": {},
   "outputs": [],
   "source": [
    "from swarm import Swarm, Agent\n",
    "\n",
    "client = Swarm()"
   ]
  },
  {
   "cell_type": "code",
   "execution_count": 2,
   "metadata": {},
   "outputs": [],
   "source": [
    "english_agent = Agent(\n",
    "    name=\"English Agent\",\n",
    "    instructions=\"You only speak English.\",\n",
    ")\n",
    "\n",
    "spanish_agent = Agent(\n",
    "    name=\"Spanish Agent\",\n",
    "    instructions=\"You only speak Spanish.\",\n",
    ")"
   ]
  },
  {
   "cell_type": "code",
   "execution_count": 3,
   "metadata": {},
   "outputs": [],
   "source": [
    "def transfer_to_spanish_agent():\n",
    "    \"\"\"Transfer spanish speaking users immediately.\"\"\"\n",
    "    return spanish_agent"
   ]
  },
  {
   "cell_type": "code",
   "execution_count": 4,
   "metadata": {},
   "outputs": [],
   "source": [
    "english_agent.functions.append(transfer_to_spanish_agent)"
   ]
  },
  {
   "cell_type": "code",
   "execution_count": 5,
   "metadata": {},
   "outputs": [],
   "source": [
    "messages = [{\"role\": \"user\", \"content\": \"Hola. ¿Como estás?\"}]"
   ]
  },
  {
   "cell_type": "code",
   "execution_count": 6,
   "metadata": {},
   "outputs": [],
   "source": [
    "response = client.run(agent=english_agent, messages=messages)"
   ]
  },
  {
   "cell_type": "code",
   "execution_count": 7,
   "metadata": {},
   "outputs": [
    {
     "data": {
      "text/plain": [
       "Response(messages=[{'content': None, 'role': 'assistant', 'function_call': None, 'tool_calls': [{'id': 'call_Jd1l8f08ACpOJlE49I4hPiwF', 'function': {'arguments': '{}', 'name': 'transfer_to_spanish_agent'}, 'type': 'function'}], 'refusal': None, 'sender': 'English Agent'}, {'role': 'tool', 'tool_call_id': 'call_Jd1l8f08ACpOJlE49I4hPiwF', 'tool_name': 'transfer_to_spanish_agent', 'content': '{\"assistant\": \"Spanish Agent\"}'}, {'content': '¡Hola! Estoy bien, gracias. ¿Y tú, cómo estás?', 'role': 'assistant', 'function_call': None, 'tool_calls': None, 'refusal': None, 'sender': 'Spanish Agent'}], agent=Agent(name='Spanish Agent', model='gpt-4o', instructions='You only speak Spanish.', functions=[], tool_choice=None, parallel_tool_calls=True), context_variables={})"
      ]
     },
     "execution_count": 7,
     "metadata": {},
     "output_type": "execute_result"
    }
   ],
   "source": [
    "response"
   ]
  },
  {
   "cell_type": "code",
   "execution_count": 8,
   "metadata": {},
   "outputs": [
    {
     "name": "stdout",
     "output_type": "stream",
     "text": [
      "¡Hola! Estoy bien, gracias. ¿Y tú, cómo estás?\n"
     ]
    }
   ],
   "source": [
    "print(response.messages[-1][\"content\"])"
   ]
  },
  {
   "cell_type": "code",
   "execution_count": null,
   "metadata": {},
   "outputs": [],
   "source": []
  }
 ],
 "metadata": {
  "kernelspec": {
   "display_name": "Python 3",
   "language": "python",
   "name": "python3"
  },
  "language_info": {
   "codemirror_mode": {
    "name": "ipython",
    "version": 3
   },
   "file_extension": ".py",
   "mimetype": "text/x-python",
   "name": "python",
   "nbconvert_exporter": "python",
   "pygments_lexer": "ipython3",
   "version": "3.10.15"
  }
 },
 "nbformat": 4,
 "nbformat_minor": 2
}
